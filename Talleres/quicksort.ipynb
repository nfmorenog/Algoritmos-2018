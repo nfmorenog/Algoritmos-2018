{
 "cells": [
  {
   "cell_type": "markdown",
   "metadata": {},
   "source": [
    "# Quicksort\n"
   ]
  },
  {
   "cell_type": "markdown",
   "metadata": {},
   "source": [
    "Prueba en permutaciones de tamaño 16, en 10000000 de intentos. El tiempo mostrado es en segundos:"
   ]
  },
  {
   "cell_type": "code",
   "execution_count": 4,
   "metadata": {},
   "outputs": [
    {
     "data": {
      "image/png": "[encoded data removed]",
      "text/plain": [
       "<matplotlib.figure.Figure at 0x1fdf3301ac8>"
      ]
     },
     "metadata": {},
     "output_type": "display_data"
    },
    {
     "data": {
      "image/png": "[encoded data removed]",
      "text/plain": [
       "<matplotlib.figure.Figure at 0x1fd87e2fba8>"
      ]
     },
     "metadata": {},
     "output_type": "display_data"
    },
    {
     "name": "stdout",
     "output_type": "stream",
     "text": [
      "tamaño: 16\n",
      "intentos: 10000000\n",
      "media de comparaciones: 83.6672941\n",
      "media de tiempo: 6.092662241458893e-05\n",
      "desviación comparaciones: 7.093957817504199\n",
      "desviación tiempos: 0.0002191114829437394\n",
      "min comparasiones: 67\n",
      "min tiempo: 0.0\n",
      "max: 140\n",
      "max tiempos: 0.06552696228027344\n",
      "TIEMPO TOTAL: 618.5546770095825\n"
     ]
    }
   ],
   "source": [
    "import random\n",
    "import statistics\n",
    "import matplotlib.pyplot as plt\n",
    "from time import time\n",
    "\n",
    "def randomquicksort(alist,times):\n",
    "   comp = [0]\n",
    "   randomquicksorthelper(alist,0,len(alist)-1,comp)\n",
    "   times.append(comp[0])\n",
    "\n",
    "def randomquicksorthelper(alist,first,last,comp):\n",
    "   if first<last:\n",
    "\n",
    "       r = randompartition(alist,first,last)\n",
    "       splitpoint = r[0]\n",
    "       tmp = comp.pop()\n",
    "       comp.append(tmp+r[1])\n",
    "    \n",
    "       randomquicksorthelper(alist,first,splitpoint-1,comp)\n",
    "       randomquicksorthelper(alist,splitpoint+1,last,comp)\n",
    "\n",
    "def randompartition(alist,first,last):\n",
    "  \n",
    "   indxpiv = random.randint(first,last)\n",
    "   temp = alist[indxpiv]\n",
    "   alist[indxpiv] = alist[first]\n",
    "   alist[first] = temp\n",
    "   \n",
    "   pivotvalue = alist[first]\n",
    "   compspart = 0\n",
    "\n",
    "   leftmark = first+1\n",
    "   rightmark = last\n",
    "\n",
    "   done = False\n",
    "   while not done:\n",
    "\n",
    "       while leftmark <= rightmark and alist[leftmark] <= pivotvalue:\n",
    "           leftmark = leftmark + 1\n",
    "           compspart = compspart + 1\n",
    "       compspart = compspart + 1\n",
    "\n",
    "       while alist[rightmark] >= pivotvalue and rightmark >= leftmark:\n",
    "           rightmark = rightmark -1\n",
    "           compspart = compspart + 1\n",
    "       compspart = compspart + 1\n",
    "\n",
    "       if rightmark < leftmark:\n",
    "           done = True\n",
    "       else:\n",
    "           temp = alist[leftmark]\n",
    "           alist[leftmark] = alist[rightmark]\n",
    "           alist[rightmark] = temp\n",
    "\n",
    "   temp = alist[first]\n",
    "   alist[first] = alist[rightmark]\n",
    "   alist[rightmark] = temp\n",
    "\n",
    "\n",
    "   return rightmark,compspart\n",
    "\n",
    "def randomquicksorttimedistrib(s,r):\n",
    "    \n",
    "    # Create an array of 1 .. n  \n",
    "    n=s\n",
    "    runs=r\n",
    "    x = []\n",
    "    for i in range(1,n+1):\n",
    "        x.append(n+1-i)\n",
    "    \n",
    "   \n",
    "    tlist =[]\n",
    "    tiempos= []\n",
    "    in_time = time()\n",
    "    for p in range(1,runs+1):\n",
    "          y = list(x)\n",
    "          start_time = time()\n",
    "          randomquicksort(y,tlist)\n",
    "          elapsed_time = time() - start_time\n",
    "          tiempos.append(elapsed_time)\n",
    "          \n",
    "    totaltime = time() - in_time\n",
    "    \n",
    "    plt.hist(tlist)\n",
    "    plt.title(\"Number of comparison of Quicksort for all permutaions\")\n",
    "    plt.xlabel(\"Comparisons of elements\")\n",
    "    plt.ylabel(\"Frequency\")\n",
    "    plt.show()\n",
    "\n",
    "    plt.hist(tiempos)\n",
    "    plt.title(\"Time needed for each permutation\")\n",
    "    plt.xlabel(\"Time\")\n",
    "    plt.ylabel(\"Frequency\")\n",
    "    plt.show()\n",
    "    \n",
    "    print(\"tamaño:\",n)\n",
    "    print(\"intentos:\",runs)\n",
    "    print(\"media de comparaciones:\",statistics.mean(tlist))\n",
    "    print(\"media de tiempo:\",statistics.mean(tiempos))\n",
    "    print(\"desviación comparaciones:\",statistics.stdev(tlist))\n",
    "    print(\"desviación tiempos:\",statistics.stdev(tiempos))\n",
    "    print(\"min comparasiones:\",min(tlist))\n",
    "    print(\"min tiempo:\",min(tiempos))\n",
    "    print(\"max:\",max(tlist))\n",
    "    print(\"max tiempos:\",max(tiempos))\n",
    "    \n",
    "    print(\"TIEMPO TOTAL:\", totaltime)\n",
    "\n",
    "randomquicksorttimedistrib(16,10000000)\n"
   ]
  },
  {
   "cell_type": "markdown",
   "metadata": {},
   "source": [
    "El tiempo total fue de 618.55 segundos, aproximadamente, y en minutos esto equivale a 10.31 minutos. Es decir, en 5 horas debería ser posible repetir esta cantidad de intentos 29 veces.\n",
    "\n",
    "Se intentó correr el programa por 5 horas, pero cuando se estaba por llegar a la quinta hora el proceso se congelaba, y era necesario reiniciar el computador. Tal vez por saturación de la memoria."
   ]
  },
  {
   "cell_type": "code",
   "execution_count": null,
   "metadata": {},
   "outputs": [],
   "source": []
  }
 ],
 "metadata": {
  "kernelspec": {
   "display_name": "Python 3",
   "language": "python",
   "name": "python3"
  },
  "language_info": {
   "codemirror_mode": {
    "name": "ipython",
    "version": 3
   },
   "file_extension": ".py",
   "mimetype": "text/x-python",
   "name": "python",
   "nbconvert_exporter": "python",
   "pygments_lexer": "ipython3",
   "version": "3.6.4"
  }
 },
 "nbformat": 4,
 "nbformat_minor": 2
}
