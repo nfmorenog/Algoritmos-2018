{
 "cells": [
  {
   "cell_type": "code",
   "execution_count": 30,
   "metadata": {
    "collapsed": false
   },
   "outputs": [
    {
     "name": "stdout",
     "output_type": "stream",
     "text": [
      "[1, 2, 4, 3]\n",
      "[4, 2, 1, 3]\n",
      "[3, 1, 2, 4]\n",
      "[3, 1, 2, 4]\n",
      "[2, 1, 3, 4]\n",
      "[2, 1, 3, 4]\n",
      "4\n",
      "flips\n",
      "Sorted Array \n",
      "[1, 2, 3, 4]\n"
     ]
    }
   ],
   "source": [
    "# Python3 program to\n",
    "# sort array using\n",
    "# pancake sort\n",
    "\n",
    "# Reverses arr[0..i] */\n",
    "def flip(arr, i):\n",
    "\tprint (arr)\n",
    "\tstart = 0\n",
    "\twhile start < i:\n",
    "\t\ttemp = arr[start]\n",
    "\t\tarr[start] = arr[i]\n",
    "\t\tarr[i] = temp\n",
    "\t\tstart += 1\n",
    "\t\ti -= 1\n",
    "\t\n",
    "# Returns index of the maximum\n",
    "# element in arr[0..n-1] */\n",
    "def findMax(arr, n):\n",
    "\tmi = 0\n",
    "\tfor i in range(0,n):\n",
    "\t\tif arr[i] > arr[mi]:\n",
    "\t\t\tmi = i\n",
    "\t\n",
    "\treturn mi\n",
    "\n",
    "# The main function that \n",
    "# sorts given array \n",
    "# using flip operations\n",
    "def pancakeSort(arr, n,nf):\n",
    "\t\n",
    "\t# Start from the complete\n",
    "\t# array and one by one\n",
    "\t# reduce current size\n",
    "\t# by one\n",
    "\tcurr_size = n\n",
    "\twhile curr_size > 1:\n",
    "\t\t# Find index of the maximum\n",
    "\t\t# element in \n",
    "\t\t# arr[0..curr_size-1]\n",
    "\t\tmi = findMax(arr, curr_size)\n",
    "\t\t# Move the maximum element\n",
    "\t\t# to end of current array\n",
    "\t\t# if it's not already at \n",
    "\t\t# the end\n",
    "\t\tif mi != curr_size-1:\n",
    "\t\t\t# To move at the end, \n",
    "\t\t\t# first move maximum \n",
    "\t\t\t# number to beginning\n",
    "\t\t\tflip(arr, mi)                            \n",
    "\t\t\t# Now move the maximum \n",
    "\t\t\t# number to end by\n",
    "\t\t\t# reversing current array\t\t\t\n",
    "\t\t\tflip(arr, curr_size-1)            \n",
    "\t\tnf+=1\n",
    "\t\tcurr_size -= 1\n",
    "\t\t\n",
    "\treturn nf+1\n",
    "\n",
    "\n",
    "# Driver program \n",
    "arr = [1,2,4,3]\n",
    "n = len(arr)\n",
    "nf=0\n",
    "print (pancakeSort(arr, n,nf))\n",
    "print (\"flips\")\n",
    "print (\"Sorted Array \")\n",
    "print (arr)\n",
    "#printArray(arr,n)\n",
    "\n",
    "\n",
    "\n"
   ]
  },
  {
   "cell_type": "code",
   "execution_count": null,
   "metadata": {
    "collapsed": true
   },
   "outputs": [],
   "source": [
    "#"
   ]
  }
 ],
 "metadata": {
  "kernelspec": {
   "display_name": "Python 2",
   "language": "python",
   "name": "python2"
  }
 },
 "nbformat": 4,
 "nbformat_minor": 2
}