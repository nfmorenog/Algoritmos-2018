{
 "cells": [
  {
   "cell_type": "markdown",
   "metadata": {},
   "source": [
    "# Comparaciones y swaps realizados en el Bubble sort\n"
   ]
  },
  {
   "cell_type": "code",
   "execution_count": 1,
   "metadata": {
    "collapsed": true
   },
   "outputs": [],
   "source": [
    "import numpy as np\n",
    "import random\n",
    "import matplotlib.pyplot as pl\n",
    "\n",
    "def randomPerm(n):\n",
    "    v=[]\n",
    "    for i in range(n):\n",
    "        v.append(i+1)\n",
    "    for i in range(len(v)-1):\n",
    "        j = random.randint(i, len(v)-1)\n",
    "        aux = v[i]\n",
    "        v[i] = v[j]\n",
    "        v[j] = aux\n",
    "    return v\n",
    "\n"
   ]
  },
  {
   "cell_type": "code",
   "execution_count": 2,
   "metadata": {
    "collapsed": true
   },
   "outputs": [],
   "source": [
    "def bub(arreglo):\n",
    "    comp=0\n",
    "    swap=0\n",
    "    \n",
    "    for j in range(len(arreglo)-1,0,-1):\n",
    "        for k in range(j): \n",
    "            comp+=1\n",
    "            if arreglo[k]>arreglo[k+1]:\n",
    "                \n",
    "                aux= arreglo[k]\n",
    "                arreglo[k]=arreglo[k+1]\n",
    "                arreglo[k+1]=aux\n",
    "                swap+=1\n",
    "                \n",
    "    \n",
    "    return swap, comp\n",
    "\n"
   ]
  },
  {
   "cell_type": "code",
   "execution_count": 4,
   "metadata": {
    "collapsed": false
   },
   "outputs": [
    {
     "name": "stdout",
     "output_type": "stream",
     "text": [
      "PEOR CASO:\n",
      "Swaps 6578\n",
      "Comparaciones 11175\n",
      "MEJOR CASO:\n",
      "Swaps 4557\n",
      "Comparaciones 11175\n",
      "PROMEDIO\n",
      "Swaps 5585\n",
      "Comparaciones 11175\n"
     ]
    }
   ],
   "source": [
    "n=150\n",
    "runs=1000    \n",
    "\n",
    "\n",
    "#Ordenamiento:\n",
    "minswap=n**3\n",
    "mincomp=n**3\n",
    "maxswap=0\n",
    "maxcomp=0\n",
    "sumswap=0\n",
    "sumcomp=0\n",
    "probswap=np.repeat(0, n**2)\n",
    "probcomp=np.repeat(0, n**2)\n",
    "for i in range (runs):\n",
    "    t = list(map(int,bub(randomPerm(n))))\n",
    "    probswap[t[0]]+=1\n",
    "    probcomp[t[1]]+=1\n",
    "    if t[0] < minswap :\n",
    "       minswap = t[0]\n",
    "    if t[1] < mincomp :\n",
    "       mincomp = t[1]\n",
    "    if t[0] > maxswap :\n",
    "       maxswap = t[0]\n",
    "    if t[1] > maxcomp :\n",
    "       maxcomp = t[1]\n",
    "    sumswap = sumswap + t[0]\n",
    "    sumcomp = sumcomp + t[1]\n",
    "promedioswap = sumswap/runs\n",
    "promediocomp = sumcomp/runs\n",
    "\"\"\"    \n",
    "pl.ylabel(\"Casos\")\n",
    "pl.xlabel('Comparaciones')\n",
    "pl.axis([4940,4960,0,1000])\n",
    "pl.plot(probcomp)\n",
    "pl.show()\n",
    "pl.ylabel(\"Casos\")\n",
    "pl.xlabel('Swaps')\n",
    "pl.axis([minswap,maxswap,0,10])\n",
    "pl.plot(probswap,'k-')\n",
    "pl.show()\n",
    "\n",
    "\"\"\"\n",
    "\n",
    "print(\"PEOR CASO:\")\n",
    "print(\"Swaps \" +str(maxswap))\n",
    "print(\"Comparaciones \" +str(maxcomp))\n",
    "print(\"MEJOR CASO:\")\n",
    "print(\"Swaps \" +str(minswap))\n",
    "print(\"Comparaciones \" +str(mincomp))\n",
    "print(\"PROMEDIO\")\n",
    "print(\"Swaps \" +str(promedioswap))\n",
    "print(\"Comparaciones \" +str(promediocomp))"
   ]
  },
  {
   "cell_type": "code",
   "execution_count": null,
   "metadata": {
    "collapsed": true
   },
   "outputs": [],
   "source": []
  }
 ],
 "metadata": {
  "kernelspec": {
   "display_name": "Python 2",
   "language": "python",
   "name": "python2"
  },
  "language_info": {
   "codemirror_mode": {
    "name": "ipython",
    "version": 2
   },
   "file_extension": ".py",
   "mimetype": "text/x-python",
   "name": "python",
   "nbconvert_exporter": "python",
   "pygments_lexer": "ipython2",
   "version": "2.7.12"
  }
 },
 "nbformat": 4,
 "nbformat_minor": 2
}